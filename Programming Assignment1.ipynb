{
 "cells": [
  {
   "cell_type": "code",
   "execution_count": null,
   "id": "1226c35f",
   "metadata": {},
   "outputs": [],
   "source": [
    "1. Write a Python program to print Hello Python?"
   ]
  },
  {
   "cell_type": "code",
   "execution_count": 2,
   "id": "e83a902f",
   "metadata": {},
   "outputs": [
    {
     "name": "stdout",
     "output_type": "stream",
     "text": [
      "Hello Python\n"
     ]
    }
   ],
   "source": [
    "print(\"Hello Python\")"
   ]
  },
  {
   "cell_type": "code",
   "execution_count": null,
   "id": "154af7c8",
   "metadata": {},
   "outputs": [],
   "source": [
    "2. Write a Python program to do arithmetical operations addition and division.?"
   ]
  },
  {
   "cell_type": "code",
   "execution_count": 3,
   "id": "1711f87a",
   "metadata": {},
   "outputs": [
    {
     "name": "stdout",
     "output_type": "stream",
     "text": [
      "Enter first no=8\n",
      "Enter second no=4\n",
      "addition=12\n",
      "division=2.0\n"
     ]
    }
   ],
   "source": [
    "a=int(input(\"Enter first no=\"))\n",
    "b=int(input(\"Enter second no=\"))\n",
    "print(f\"addition={a+b}\")\n",
    "print(f\"division={a/b}\")"
   ]
  },
  {
   "cell_type": "code",
   "execution_count": null,
   "id": "c7a977e7",
   "metadata": {},
   "outputs": [],
   "source": [
    "3. Write a Python program to find the area of a triangle?"
   ]
  },
  {
   "cell_type": "code",
   "execution_count": 4,
   "id": "d4aed32a",
   "metadata": {},
   "outputs": [
    {
     "name": "stdout",
     "output_type": "stream",
     "text": [
      "Enter first side=3\n",
      "Enter second side=4\n",
      "Enter third side=5\n",
      "area=6.0\n"
     ]
    }
   ],
   "source": [
    "a=int(input(\"Enter first side=\"))\n",
    "b=int(input(\"Enter second side=\"))\n",
    "c=int(input(\"Enter third side=\"))\n",
    "s=(a+b+c)/2\n",
    "a=(s*(s-a)*(s-b)*(s-c))**0.5\n",
    "print(f\"area={a}\")"
   ]
  },
  {
   "cell_type": "code",
   "execution_count": null,
   "id": "8ea27b28",
   "metadata": {},
   "outputs": [],
   "source": [
    "4. Write a Python program to swap two variables?"
   ]
  },
  {
   "cell_type": "code",
   "execution_count": 7,
   "id": "b483866a",
   "metadata": {},
   "outputs": [
    {
     "name": "stdout",
     "output_type": "stream",
     "text": [
      "Enter first no=7\n",
      "Enter second no=4\n",
      "first swap value=4\n",
      "second swap value=7\n"
     ]
    }
   ],
   "source": [
    "a=int(input(\"Enter first no=\"))\n",
    "b=int(input(\"Enter second no=\"))\n",
    "a=a+b\n",
    "b=a-b\n",
    "a=a-b\n",
    "print(f\"first swap value={a}\")\n",
    "print(f\"second swap value={b}\")"
   ]
  },
  {
   "cell_type": "code",
   "execution_count": null,
   "id": "9a8ece9a",
   "metadata": {},
   "outputs": [],
   "source": [
    "5 Write a Python program to generate a random number?"
   ]
  },
  {
   "cell_type": "code",
   "execution_count": 9,
   "id": "98330974",
   "metadata": {},
   "outputs": [
    {
     "name": "stdout",
     "output_type": "stream",
     "text": [
      "Enter first no=3\n",
      "Enter second no=7\n",
      "4\n"
     ]
    }
   ],
   "source": [
    "import random\n",
    "a=int(input(\"Enter first no=\"))\n",
    "b=int(input(\"Enter second no=\"))\n",
    "print(random.randint(a,b))"
   ]
  },
  {
   "cell_type": "code",
   "execution_count": null,
   "id": "be9ae4f4",
   "metadata": {},
   "outputs": [],
   "source": []
  }
 ],
 "metadata": {
  "kernelspec": {
   "display_name": "Python 3 (ipykernel)",
   "language": "python",
   "name": "python3"
  },
  "language_info": {
   "codemirror_mode": {
    "name": "ipython",
    "version": 3
   },
   "file_extension": ".py",
   "mimetype": "text/x-python",
   "name": "python",
   "nbconvert_exporter": "python",
   "pygments_lexer": "ipython3",
   "version": "3.9.12"
  }
 },
 "nbformat": 4,
 "nbformat_minor": 5
}
